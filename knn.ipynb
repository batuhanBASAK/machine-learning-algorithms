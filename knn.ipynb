{
 "cells": [
  {
   "cell_type": "code",
   "execution_count": 94,
   "metadata": {},
   "outputs": [],
   "source": [
    "import warnings\n",
    "warnings.filterwarnings('ignore')\n",
    "import numpy as np\n",
    "import pandas as pd\n",
    "import matplotlib.pyplot as plt\n",
    "import seaborn as sns\n",
    "from sklearn.metrics import accuracy_score\n",
    "import math"
   ]
  },
  {
   "cell_type": "code",
   "execution_count": 95,
   "metadata": {},
   "outputs": [],
   "source": [
    "from sklearn.datasets import make_classification"
   ]
  },
  {
   "cell_type": "code",
   "execution_count": 96,
   "metadata": {},
   "outputs": [
    {
     "data": {
      "text/plain": [
       "(array([[ 1.22831184, -0.75717844],\n",
       "        [ 0.69840909, -1.38029525],\n",
       "        [ 2.54881729,  2.50225822],\n",
       "        [ 0.57357881, -1.35297943],\n",
       "        [ 0.58590018, -1.33745666],\n",
       "        [ 0.63356167, -1.17278867],\n",
       "        [ 0.55656344, -1.31038476],\n",
       "        [ 0.12437227,  0.19896733],\n",
       "        [ 1.32272135, -0.59340317],\n",
       "        [ 1.42586898,  1.39002959],\n",
       "        [ 0.63944087, -1.23395477],\n",
       "        [ 1.2349949 , -0.73168763],\n",
       "        [ 0.73902766,  0.82180719],\n",
       "        [ 2.22140553,  2.10036638],\n",
       "        [ 3.08402116,  2.83324852],\n",
       "        [ 1.00183089, -1.02646717],\n",
       "        [ 1.03307436, -0.85545993],\n",
       "        [ 0.10320711,  0.21791213],\n",
       "        [ 0.57885884,  0.56599415],\n",
       "        [ 1.71073996,  1.56900774],\n",
       "        [ 1.1586864 , -0.88167436],\n",
       "        [ 3.07317945,  2.84564176],\n",
       "        [ 1.88782031, -0.36699364],\n",
       "        [ 0.48727907,  0.59970882],\n",
       "        [ 3.07752729,  2.90114736],\n",
       "        [ 0.22485502,  0.29482153],\n",
       "        [ 1.12991576,  1.10236134],\n",
       "        [ 0.85095512, -1.18455216],\n",
       "        [-0.00832267, -1.7576143 ],\n",
       "        [ 1.8935669 , -0.36699918],\n",
       "        [ 0.76916909, -1.0609667 ],\n",
       "        [ 1.61550606, -0.57301231],\n",
       "        [ 2.20938257,  2.07514881],\n",
       "        [ 0.87971932, -1.17756932],\n",
       "        [ 0.60046915, -1.43949185],\n",
       "        [ 1.01215141, -0.95668044],\n",
       "        [ 2.31414829,  2.29519066],\n",
       "        [ 1.09821151,  1.1046981 ],\n",
       "        [ 0.76361798, -1.18691259],\n",
       "        [ 1.85766106, -0.40530133],\n",
       "        [ 1.68538712,  1.63306798],\n",
       "        [ 0.15559223,  0.14096222],\n",
       "        [-0.08239154, -0.02861137],\n",
       "        [ 1.23413512,  1.20275034],\n",
       "        [ 1.29021194, -0.76408578],\n",
       "        [-0.77719676, -0.63604713],\n",
       "        [ 0.51142713, -1.28981425],\n",
       "        [ 1.00459142, -1.05172286],\n",
       "        [ 1.43117438, -0.70808284],\n",
       "        [ 1.44537152, -0.74322936],\n",
       "        [ 0.73254597,  0.69041433],\n",
       "        [ 1.23390668,  1.1968407 ],\n",
       "        [ 1.04578316, -1.09977558],\n",
       "        [ 0.87717639, -1.15469945],\n",
       "        [ 0.78779153, -1.24378397],\n",
       "        [ 1.45151031,  1.38591822],\n",
       "        [ 1.21530116, -0.96090774],\n",
       "        [ 0.73455812,  0.69161946],\n",
       "        [ 0.094903  ,  0.09090508],\n",
       "        [ 1.81245044, -0.27202012],\n",
       "        [ 0.7114472 ,  0.8387787 ],\n",
       "        [ 1.43085689,  1.35245182],\n",
       "        [ 0.80375081,  0.74491926],\n",
       "        [ 1.04598687,  0.97477665],\n",
       "        [ 0.3808594 , -1.57866861],\n",
       "        [ 2.33026777,  2.25911758],\n",
       "        [ 1.8073481 ,  1.73476635],\n",
       "        [ 0.77018374,  0.74976134],\n",
       "        [ 1.83708868, -0.33281274],\n",
       "        [ 0.88259274, -1.13663628],\n",
       "        [ 0.59137345,  0.65689322],\n",
       "        [ 0.37878997, -1.5591055 ],\n",
       "        [-0.21198653, -0.20665158],\n",
       "        [ 0.73375167, -1.24567514],\n",
       "        [-0.40020814, -2.2632312 ],\n",
       "        [ 3.17435468,  2.97121283],\n",
       "        [ 0.37705866, -1.47857623],\n",
       "        [ 1.93866732,  1.89910321],\n",
       "        [-0.22595246, -0.14928517],\n",
       "        [ 1.09891218, -0.932062  ],\n",
       "        [ 0.64569333,  0.69203257],\n",
       "        [ 1.8669662 , -0.36915809],\n",
       "        [-0.85852241, -0.73473514],\n",
       "        [ 1.68674524, -0.35904111],\n",
       "        [ 1.85526237,  1.77846692],\n",
       "        [ 1.07746664, -0.9609536 ],\n",
       "        [ 0.33958117, -1.45380914],\n",
       "        [ 0.7314302 , -1.14361722],\n",
       "        [ 1.44169528,  1.40932861],\n",
       "        [ 0.01258051,  0.12054434],\n",
       "        [ 0.24802757,  0.27894398],\n",
       "        [ 0.53358465, -1.52165918],\n",
       "        [ 1.41276704, -0.67621395],\n",
       "        [ 0.09145925,  0.19690952],\n",
       "        [ 1.56917436,  1.5409666 ],\n",
       "        [ 0.47335819, -1.43862044],\n",
       "        [ 1.23332293,  1.23933572],\n",
       "        [ 0.46010921, -1.48739641],\n",
       "        [ 0.67963113,  0.75783672],\n",
       "        [ 1.04031359,  1.11434941]]),\n",
       " array([0, 0, 1, 0, 0, 0, 0, 1, 0, 1, 0, 0, 1, 1, 1, 0, 0, 1, 1, 1, 0, 1,\n",
       "        0, 1, 1, 1, 1, 0, 0, 0, 0, 0, 1, 0, 0, 0, 1, 1, 0, 0, 1, 1, 1, 1,\n",
       "        0, 1, 0, 0, 0, 0, 1, 1, 0, 0, 0, 1, 0, 1, 1, 0, 1, 1, 1, 1, 0, 1,\n",
       "        1, 1, 0, 0, 1, 0, 1, 0, 0, 1, 0, 1, 1, 0, 1, 0, 1, 0, 1, 0, 0, 0,\n",
       "        1, 1, 1, 0, 0, 1, 1, 0, 1, 0, 1, 1]))"
      ]
     },
     "execution_count": 96,
     "metadata": {},
     "output_type": "execute_result"
    }
   ],
   "source": [
    "x, y = make_classification(n_samples=100, n_features=2, n_classes=2, n_clusters_per_class=1, n_informative=2, n_redundant=0, n_repeated=0, random_state=42)\n",
    "x, y"
   ]
  },
  {
   "cell_type": "code",
   "execution_count": 97,
   "metadata": {},
   "outputs": [
    {
     "data": {
      "text/plain": [
       "((100, 2), (100,))"
      ]
     },
     "execution_count": 97,
     "metadata": {},
     "output_type": "execute_result"
    }
   ],
   "source": [
    "x.shape, y.shape"
   ]
  },
  {
   "cell_type": "code",
   "execution_count": 98,
   "metadata": {},
   "outputs": [
    {
     "data": {
      "text/plain": [
       "<Axes: >"
      ]
     },
     "execution_count": 98,
     "metadata": {},
     "output_type": "execute_result"
    },
    {
     "data": {
      "image/png": "[encoded data removed]",
      "text/plain": [
       "<Figure size 640x480 with 1 Axes>"
      ]
     },
     "metadata": {},
     "output_type": "display_data"
    }
   ],
   "source": [
    "sns.scatterplot(x=x[:, 0], y=x[:, 1], hue=y)"
   ]
  },
  {
   "cell_type": "code",
   "execution_count": 99,
   "metadata": {},
   "outputs": [],
   "source": [
    "from sklearn.model_selection import train_test_split"
   ]
  },
  {
   "cell_type": "code",
   "execution_count": 100,
   "metadata": {},
   "outputs": [],
   "source": [
    "x_train, x_test, y_train, y_test = train_test_split(x, y, random_state=42, test_size=0.2, stratify=y)"
   ]
  },
  {
   "cell_type": "code",
   "execution_count": 101,
   "metadata": {},
   "outputs": [],
   "source": [
    "class KNN:\n",
    "    def __init__(self, neighbours=5):\n",
    "        self.neigbours = neighbours\n",
    "\n",
    "\n",
    "    def fit(self, x, y):\n",
    "        self.x = x\n",
    "        self.y = y\n",
    "\n",
    "        if len(self.x.shape) == 1:\n",
    "            self.n_dims = 1\n",
    "        else:\n",
    "            self.n_dims = self.x.shape[1]\n",
    "\n",
    "\n",
    "    def predict(self, x):\n",
    "        y_pred = []\n",
    "        for i in range(x.shape[0]):\n",
    "            neigbours_indices = []\n",
    "            for j in range(self.neigbours):\n",
    "                closest_index = self._find_closest(x[i], neigbours_indices)\n",
    "                neigbours_indices.append(closest_index)            \n",
    "            y_pred.append(self._most_common([self.y[index] for index in neigbours_indices]))\n",
    "\n",
    "        return y_pred\n",
    "\n",
    "\n",
    "    def  _find_closest(self, x, neigbours_indices):\n",
    "        sample_size = self.x.shape[0]\n",
    "\n",
    "        min_index = 0\n",
    "        min_distance = math.inf\n",
    "        for i in range(sample_size):\n",
    "            if i in neigbours_indices:\n",
    "                continue\n",
    "            sum = 0.0\n",
    "            for j in range(self.n_dims):\n",
    "                sum += (x[j] - self.x[i][j]) ** 2\n",
    "            distance = math.sqrt(sum)\n",
    "            if distance < min_distance:\n",
    "                min_index = i\n",
    "                min_distance = distance\n",
    "        \n",
    "        return min_index\n",
    "    \n",
    "\n",
    "    def _most_common(self, lst):\n",
    "        return max(set(lst), key=lst.count)\n",
    "\n",
    "\n",
    "    def score(self, x, y):\n",
    "        y_pred = self.predict(x)\n",
    "        return accuracy_score(y_pred=y_pred, y_true=y)\n",
    "\n"
   ]
  },
  {
   "cell_type": "code",
   "execution_count": 102,
   "metadata": {},
   "outputs": [],
   "source": [
    "clf = KNN()\n",
    "clf.fit(x_train, y_train)"
   ]
  },
  {
   "cell_type": "code",
   "execution_count": 103,
   "metadata": {},
   "outputs": [
    {
     "data": {
      "text/plain": [
       "1.0"
      ]
     },
     "execution_count": 103,
     "metadata": {},
     "output_type": "execute_result"
    }
   ],
   "source": [
    "clf.score(x_train, y_train)"
   ]
  },
  {
   "cell_type": "code",
   "execution_count": 104,
   "metadata": {},
   "outputs": [
    {
     "data": {
      "text/plain": [
       "1.0"
      ]
     },
     "execution_count": 104,
     "metadata": {},
     "output_type": "execute_result"
    }
   ],
   "source": [
    "clf.score(x_test, y_test)"
   ]
  }
 ],
 "metadata": {
  "kernelspec": {
   "display_name": "base",
   "language": "python",
   "name": "python3"
  },
  "language_info": {
   "codemirror_mode": {
    "name": "ipython",
    "version": 3
   },
   "file_extension": ".py",
   "mimetype": "text/x-python",
   "name": "python",
   "nbconvert_exporter": "python",
   "pygments_lexer": "ipython3",
   "version": "3.11.0"
  }
 },
 "nbformat": 4,
 "nbformat_minor": 2
}

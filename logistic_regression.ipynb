{
 "cells": [
  {
   "cell_type": "code",
   "execution_count": 67,
   "metadata": {},
   "outputs": [],
   "source": [
    "import warnings\n",
    "warnings.filterwarnings('ignore') # to ignore warnings about pandas library\n",
    "import numpy as np\n",
    "import pandas as pd\n",
    "import matplotlib.pyplot as plt\n",
    "import seaborn as sns\n",
    "\n",
    "from sklearn.metrics import accuracy_score"
   ]
  },
  {
   "cell_type": "code",
   "execution_count": 68,
   "metadata": {},
   "outputs": [],
   "source": [
    "class LogisticRegressionClassifier:\n",
    "    def __init__(self, lr=0.01, n_iters=100):\n",
    "        self.lr = lr\n",
    "        self.n_iters=n_iters\n",
    "    \n",
    "\n",
    "    def fit(self, x, y):\n",
    "        if len(x.shape) == 1:\n",
    "            self.n_params = 1\n",
    "        else:\n",
    "            self.n_params = x.shape[1]\n",
    "        \n",
    "        sample_size = x.shape[0]\n",
    "\n",
    "        self.params = np.random.uniform(low=0.5, high=1.5, size=self.n_params)\n",
    "        self.bias = 0.0\n",
    "\n",
    "        epsilon = 1e-5\n",
    "        for _ in range(self.n_iters):\n",
    "\n",
    "            for i in range(sample_size):\n",
    "                z = np.dot(x[i], self.params.T) + self.bias\n",
    "                y_pred = 1 / (1 + np.exp(-z))\n",
    "\n",
    "                for j in range(self.n_params):\n",
    "                    self.params[j] -= self.lr * ( ((1-y[i])/(1-y_pred+epsilon)) - (y[i]/y_pred+epsilon) )  *  ( np.exp(-z) / np.square(1 + np.exp(-z)) ) * x[i][j]\n",
    "\n",
    "                self.bias -= self.lr * ( ((1-y[i])/(1-y_pred+epsilon)) - (y[i]/y_pred+epsilon) )  *  ( np.exp(-z) / np.square(1 + np.exp(-z)) )\n",
    "        \n",
    "\n",
    "    def predict(self, x):\n",
    "        z = np.dot(x, self.params.T) + self.bias\n",
    "        return 1 / (1 + np.exp(-z))\n",
    "    \n",
    "\n",
    "    def score(self, x, y):\n",
    "        y_pred = self.predict(x)\n",
    "        y_pred = [1 if i > 0.5 else 0 for i in y_pred]\n",
    "        return accuracy_score(y_pred=y_pred, y_true=y)\n",
    "\n"
   ]
  },
  {
   "cell_type": "code",
   "execution_count": 69,
   "metadata": {},
   "outputs": [
    {
     "data": {
      "text/plain": [
       "(array([[3.78],\n",
       "        [2.44],\n",
       "        [2.09],\n",
       "        [0.14],\n",
       "        [1.72],\n",
       "        [1.65],\n",
       "        [4.92],\n",
       "        [4.37],\n",
       "        [4.96],\n",
       "        [4.52],\n",
       "        [3.69],\n",
       "        [5.88]]),\n",
       " array([0, 0, 0, 0, 0, 0, 1, 1, 1, 1, 1, 1]))"
      ]
     },
     "execution_count": 69,
     "metadata": {},
     "output_type": "execute_result"
    }
   ],
   "source": [
    "x = np.array([3.78, 2.44, 2.09, 0.14, 1.72, 1.65, 4.92, 4.37, 4.96, 4.52, 3.69, 5.88]).reshape(-1,1)\n",
    "y = np.array([0, 0, 0, 0, 0, 0, 1, 1, 1, 1, 1, 1])\n",
    "x, y"
   ]
  },
  {
   "cell_type": "code",
   "execution_count": 70,
   "metadata": {},
   "outputs": [],
   "source": [
    "from sklearn.model_selection import train_test_split\n",
    "x_train, x_test, y_train, y_test = train_test_split(x, y, test_size=0.3, random_state=42, stratify=y)"
   ]
  },
  {
   "cell_type": "code",
   "execution_count": 71,
   "metadata": {},
   "outputs": [],
   "source": [
    "clf = LogisticRegressionClassifier()\n",
    "clf.fit(x_train, y_train)"
   ]
  },
  {
   "cell_type": "code",
   "execution_count": 72,
   "metadata": {},
   "outputs": [
    {
     "data": {
      "text/plain": [
       "1.0"
      ]
     },
     "execution_count": 72,
     "metadata": {},
     "output_type": "execute_result"
    }
   ],
   "source": [
    "clf.score(x_test, y_test)"
   ]
  },
  {
   "cell_type": "code",
   "execution_count": 73,
   "metadata": {},
   "outputs": [
    {
     "data": {
      "text/plain": [
       "array([0.63818701, 0.8234561 , 0.26721071, 0.42378729])"
      ]
     },
     "execution_count": 73,
     "metadata": {},
     "output_type": "execute_result"
    }
   ],
   "source": [
    "y_pred = clf.predict(x_test)\n",
    "y_pred"
   ]
  },
  {
   "cell_type": "code",
   "execution_count": 74,
   "metadata": {},
   "outputs": [
    {
     "data": {
      "text/plain": [
       "([1, 1, 0, 0], array([1, 1, 0, 0]))"
      ]
     },
     "execution_count": 74,
     "metadata": {},
     "output_type": "execute_result"
    }
   ],
   "source": [
    "y_pred = [1 if i > 0.5 else 0 for i in y_pred]\n",
    "y_pred, y_test"
   ]
  },
  {
   "cell_type": "code",
   "execution_count": 76,
   "metadata": {},
   "outputs": [
    {
     "data": {
      "text/plain": [
       "0.75"
      ]
     },
     "execution_count": 76,
     "metadata": {},
     "output_type": "execute_result"
    }
   ],
   "source": [
    "clf.score(x_train, y_train)"
   ]
  },
  {
   "cell_type": "code",
   "execution_count": 77,
   "metadata": {},
   "outputs": [
    {
     "data": {
      "text/plain": [
       "1.0"
      ]
     },
     "execution_count": 77,
     "metadata": {},
     "output_type": "execute_result"
    }
   ],
   "source": [
    "clf.score(x_test, y_test)"
   ]
  }
 ],
 "metadata": {
  "kernelspec": {
   "display_name": "base",
   "language": "python",
   "name": "python3"
  },
  "language_info": {
   "codemirror_mode": {
    "name": "ipython",
    "version": 3
   },
   "file_extension": ".py",
   "mimetype": "text/x-python",
   "name": "python",
   "nbconvert_exporter": "python",
   "pygments_lexer": "ipython3",
   "version": "3.11.0"
  }
 },
 "nbformat": 4,
 "nbformat_minor": 2
}

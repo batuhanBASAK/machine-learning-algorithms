{
 "cells": [
  {
   "cell_type": "code",
   "execution_count": 11,
   "metadata": {},
   "outputs": [],
   "source": [
    "import warnings\n",
    "warnings.filterwarnings('ignore')\n",
    "import numpy as np\n",
    "import pandas as pd\n",
    "import matplotlib.pyplot as plt\n",
    "import seaborn as sns"
   ]
  },
  {
   "cell_type": "code",
   "execution_count": 12,
   "metadata": {},
   "outputs": [],
   "source": [
    "from sklearn.datasets import make_regression"
   ]
  },
  {
   "cell_type": "code",
   "execution_count": 13,
   "metadata": {},
   "outputs": [
    {
     "data": {
      "text/plain": [
       "(array([[-0.29169375, -0.60063869],\n",
       "        [ 1.52302986,  0.64768854],\n",
       "        [-0.3011037 , -0.11564828],\n",
       "        [ 0.76743473,  1.57921282],\n",
       "        [-1.42474819,  0.0675282 ],\n",
       "        [-1.22084365,  0.82254491],\n",
       "        [ 1.85227818, -0.60170661],\n",
       "        [-1.95967012,  0.2088636 ],\n",
       "        [-1.05771093, -0.01349722],\n",
       "        [-1.4123037 , -0.90802408],\n",
       "        [-0.30921238, -0.83921752],\n",
       "        [ 1.05712223, -0.46063877],\n",
       "        [ 0.54256004, -0.46947439],\n",
       "        [ 0.37569802, -1.15099358],\n",
       "        [ 0.17136828,  0.73846658],\n",
       "        [-0.2257763 ,  1.46564877],\n",
       "        [-0.56228753, -1.72491783],\n",
       "        [-0.46572975, -0.46341769],\n",
       "        [ 0.97554513,  0.33126343],\n",
       "        [-0.23413696, -0.23415337],\n",
       "        [ 0.31424733, -1.01283112],\n",
       "        [ 0.11092259, -0.54438272],\n",
       "        [ 0.19686124, -1.32818605],\n",
       "        [ 0.61167629, -0.676922  ],\n",
       "        [-0.1382643 ,  0.49671415],\n",
       "        [-1.91328024,  0.24196227],\n",
       "        [-1.76304016,  0.34361829],\n",
       "        [ 0.93128012,  1.03099952],\n",
       "        [-0.71984421, -1.47852199],\n",
       "        [-0.38508228,  0.32408397]]),\n",
       " array([-21.6419259 ,  29.91580568,  -6.25881446,  58.48976871,\n",
       "         -5.25632582,  17.47079893,  -8.43658574,  -5.7637568 ,\n",
       "         -7.0774959 , -37.48467008, -29.63776739,  -9.02530852,\n",
       "        -12.15840269, -34.87637301,  27.00279584,  47.02720532,\n",
       "        -61.29611691, -17.29096851,  18.1304904 ,  -8.42369897,\n",
       "        -31.15568191, -19.92825625, -42.34108391, -19.04126191,\n",
       "         14.45105315,  -3.7923738 ,   1.08007107,  40.5479008 ,\n",
       "        -54.30770527,   8.6051062 ]))"
      ]
     },
     "execution_count": 13,
     "metadata": {},
     "output_type": "execute_result"
    }
   ],
   "source": [
    "x, y = make_regression(n_samples=30, n_features=2, noise=1, random_state=42)\n",
    "x, y"
   ]
  },
  {
   "cell_type": "code",
   "execution_count": 14,
   "metadata": {},
   "outputs": [],
   "source": [
    "# Normalization\n",
    "x = (x - np.min(x)) / (np.max(x) - np.min(x))"
   ]
  },
  {
   "cell_type": "code",
   "execution_count": 15,
   "metadata": {},
   "outputs": [
    {
     "data": {
      "text/plain": [
       "(((27, 2), (27,)), ((3, 2), (3,)))"
      ]
     },
     "execution_count": 15,
     "metadata": {},
     "output_type": "execute_result"
    }
   ],
   "source": [
    "from sklearn.model_selection import train_test_split\n",
    "x_train, x_test, y_train, y_test = train_test_split(x, y, test_size=0.1, random_state=42)\n",
    "(x_train.shape, y_train.shape), (x_test.shape, y_test.shape)"
   ]
  },
  {
   "cell_type": "code",
   "execution_count": 16,
   "metadata": {},
   "outputs": [],
   "source": [
    "class LinearRegressionClassifier:\n",
    "    def __init__(self, lr=0.01, n_iters=100):\n",
    "        self.lr = lr\n",
    "        self.n_iters = n_iters\n",
    "    \n",
    "\n",
    "    def fit(self, x, y):\n",
    "        if len(x.shape) == 1:\n",
    "            self.n_params = 1\n",
    "        else:\n",
    "            self.n_params = x.shape[1]\n",
    "        \n",
    "        sample_size = x.shape[0]\n",
    "\n",
    "        self.bias = 0.0\n",
    "        self.params = np.random.uniform(low=0.5, high=1.5, size=self.n_params)\n",
    "\n",
    "\n",
    "        for _ in range(self.n_iters):\n",
    "            for i in range(sample_size):\n",
    "                y_pred = np.dot(x[i], self.params.T) + self.bias\n",
    "                for j in range(self.n_params):\n",
    "                    self.params[j] -= self.lr * (y_pred - y[i]) * x[i][j]\n",
    "                self.bias -= self.lr * (y_pred - y[i])\n",
    "    \n",
    "\n",
    "\n",
    "    def predict(self, x):\n",
    "        return np.dot(x, self.params.T) + self.bias\n"
   ]
  },
  {
   "cell_type": "code",
   "execution_count": 17,
   "metadata": {},
   "outputs": [],
   "source": [
    "clf = LinearRegressionClassifier(lr=0.01, n_iters=1000)\n",
    "clf.fit(x_train, y_train)"
   ]
  },
  {
   "cell_type": "code",
   "execution_count": 18,
   "metadata": {},
   "outputs": [
    {
     "data": {
      "text/plain": [
       "(array([ 40.13549223,  47.36840852, -18.5807736 ]),\n",
       " array([ 40.5479008 ,  47.02720532, -19.04126191]))"
      ]
     },
     "execution_count": 18,
     "metadata": {},
     "output_type": "execute_result"
    }
   ],
   "source": [
    "clf.predict(x_test), y_test"
   ]
  }
 ],
 "metadata": {
  "kernelspec": {
   "display_name": "base",
   "language": "python",
   "name": "python3"
  },
  "language_info": {
   "codemirror_mode": {
    "name": "ipython",
    "version": 3
   },
   "file_extension": ".py",
   "mimetype": "text/x-python",
   "name": "python",
   "nbconvert_exporter": "python",
   "pygments_lexer": "ipython3",
   "version": "3.11.0"
  }
 },
 "nbformat": 4,
 "nbformat_minor": 2
}
